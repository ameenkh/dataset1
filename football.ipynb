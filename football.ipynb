{
 "cells": [
  {
   "cell_type": "markdown",
   "metadata": {},
   "source": [
    "# Football Data - Premier League Games 2013-2016\n",
    "The dataset contains 1080 football games played in the Premier League between 2013 and 2016"
   ]
  },
  {
   "cell_type": "code",
   "execution_count": 3,
   "metadata": {
    "collapsed": true
   },
   "outputs": [],
   "source": [
    "%matplotlib inline\n",
    "import json, pickle\n",
    "import matplotlib.pyplot as plt\n",
    "import numpy as np\n",
    "from collections import Counter\n",
    "from urllib.request import Request, urlopen  # Python 3\n",
    "from pandas import DataFrame"
   ]
  },
  {
   "cell_type": "markdown",
   "metadata": {},
   "source": [
    "Downloading the dataset using the api:"
   ]
  },
  {
   "cell_type": "code",
   "execution_count": 8,
   "metadata": {
    "collapsed": false
   },
   "outputs": [],
   "source": [
    "apiKey = 'e6e6b7fee3a74338bef58c93244de2d9'\n",
    "url = 'http://api.football-data.org/v1/soccerseasons/'\n",
    "def getIDS():\n",
    "    global apiKey, url\n",
    "    ids = {}\n",
    "    for year in ['2015', '2014', '2013']:\n",
    "        q = Request(url + '?season=' + year)\n",
    "        q.add_header('X-Auth-Token', apiKey)\n",
    "        q.add_header('X-Response-Control', 'minified')\n",
    "        res = json.loads(urlopen(q).read().decode())\n",
    "        for league in res:\n",
    "            if league['league'] == 'PL':\n",
    "                ids[str(league['id'])] = year\n",
    "    return ids\n",
    "\n",
    "ids = getIDS()\n",
    "for i in ids:\n",
    "    q = Request(url + i + '/fixtures')\n",
    "    q.add_header('X-Auth-Token', apiKey)\n",
    "    q.add_header('X-Response-Control', 'minified')\n",
    "    res = json.loads(urlopen(q).read().decode())\n",
    "    pickle.dump(res['fixtures'], open(ids[i]+'-fixtures.pickle', 'wb'))"
   ]
  },
  {
   "cell_type": "markdown",
   "metadata": {},
   "source": [
    "Raw data sample:"
   ]
  },
  {
   "cell_type": "code",
   "execution_count": 9,
   "metadata": {
    "collapsed": false
   },
   "outputs": [
    {
     "data": {
      "text/html": [
       "<div>\n",
       "<table border=\"1\" class=\"dataframe\">\n",
       "  <thead>\n",
       "    <tr style=\"text-align: right;\">\n",
       "      <th></th>\n",
       "      <th>awayTeamId</th>\n",
       "      <th>awayTeamName</th>\n",
       "      <th>date</th>\n",
       "      <th>homeTeamId</th>\n",
       "      <th>homeTeamName</th>\n",
       "      <th>id</th>\n",
       "      <th>matchday</th>\n",
       "      <th>result</th>\n",
       "      <th>soccerseasonId</th>\n",
       "      <th>status</th>\n",
       "    </tr>\n",
       "  </thead>\n",
       "  <tbody>\n",
       "    <tr>\n",
       "      <th>0</th>\n",
       "      <td>62</td>\n",
       "      <td>Everton FC</td>\n",
       "      <td>2013-08-16T22:00:00Z</td>\n",
       "      <td>68</td>\n",
       "      <td>Norwich City FC</td>\n",
       "      <td>134694</td>\n",
       "      <td>1</td>\n",
       "      <td>{'goalsAwayTeam': 2, 'goalsHomeTeam': 2}</td>\n",
       "      <td>341</td>\n",
       "      <td>None</td>\n",
       "    </tr>\n",
       "    <tr>\n",
       "      <th>1</th>\n",
       "      <td>70</td>\n",
       "      <td>Stoke City FC</td>\n",
       "      <td>2013-08-16T22:00:00Z</td>\n",
       "      <td>64</td>\n",
       "      <td>Liverpool FC</td>\n",
       "      <td>134697</td>\n",
       "      <td>1</td>\n",
       "      <td>{'goalsAwayTeam': 0, 'goalsHomeTeam': 1}</td>\n",
       "      <td>341</td>\n",
       "      <td>None</td>\n",
       "    </tr>\n",
       "    <tr>\n",
       "      <th>2</th>\n",
       "      <td>715</td>\n",
       "      <td>Cardiff City FC</td>\n",
       "      <td>2013-08-16T22:00:00Z</td>\n",
       "      <td>563</td>\n",
       "      <td>West Ham United FC</td>\n",
       "      <td>134771</td>\n",
       "      <td>1</td>\n",
       "      <td>{'goalsAwayTeam': 0, 'goalsHomeTeam': 2}</td>\n",
       "      <td>341</td>\n",
       "      <td>None</td>\n",
       "    </tr>\n",
       "    <tr>\n",
       "      <th>3</th>\n",
       "      <td>340</td>\n",
       "      <td>Southampton FC</td>\n",
       "      <td>2013-08-16T22:00:00Z</td>\n",
       "      <td>74</td>\n",
       "      <td>West Bromwich Albion FC</td>\n",
       "      <td>134696</td>\n",
       "      <td>1</td>\n",
       "      <td>{'goalsAwayTeam': 1, 'goalsHomeTeam': 0}</td>\n",
       "      <td>341</td>\n",
       "      <td>None</td>\n",
       "    </tr>\n",
       "    <tr>\n",
       "      <th>4</th>\n",
       "      <td>63</td>\n",
       "      <td>Fulham FC</td>\n",
       "      <td>2013-08-16T22:00:00Z</td>\n",
       "      <td>71</td>\n",
       "      <td>Sunderland AFC</td>\n",
       "      <td>134695</td>\n",
       "      <td>1</td>\n",
       "      <td>{'goalsAwayTeam': 1, 'goalsHomeTeam': 0}</td>\n",
       "      <td>341</td>\n",
       "      <td>None</td>\n",
       "    </tr>\n",
       "  </tbody>\n",
       "</table>\n",
       "</div>"
      ],
      "text/plain": [
       "   awayTeamId     awayTeamName                  date  homeTeamId  \\\n",
       "0          62       Everton FC  2013-08-16T22:00:00Z          68   \n",
       "1          70    Stoke City FC  2013-08-16T22:00:00Z          64   \n",
       "2         715  Cardiff City FC  2013-08-16T22:00:00Z         563   \n",
       "3         340   Southampton FC  2013-08-16T22:00:00Z          74   \n",
       "4          63        Fulham FC  2013-08-16T22:00:00Z          71   \n",
       "\n",
       "              homeTeamName      id  matchday  \\\n",
       "0          Norwich City FC  134694         1   \n",
       "1             Liverpool FC  134697         1   \n",
       "2       West Ham United FC  134771         1   \n",
       "3  West Bromwich Albion FC  134696         1   \n",
       "4           Sunderland AFC  134695         1   \n",
       "\n",
       "                                     result  soccerseasonId status  \n",
       "0  {'goalsAwayTeam': 2, 'goalsHomeTeam': 2}             341   None  \n",
       "1  {'goalsAwayTeam': 0, 'goalsHomeTeam': 1}             341   None  \n",
       "2  {'goalsAwayTeam': 0, 'goalsHomeTeam': 2}             341   None  \n",
       "3  {'goalsAwayTeam': 1, 'goalsHomeTeam': 0}             341   None  \n",
       "4  {'goalsAwayTeam': 1, 'goalsHomeTeam': 0}             341   None  "
      ]
     },
     "execution_count": 9,
     "metadata": {},
     "output_type": "execute_result"
    }
   ],
   "source": [
    "fixtures = []\n",
    "for i in ids:\n",
    "    fixtures += pickle.load(open(ids[i]+'-fixtures.pickle', 'rb'))\n",
    "df = DataFrame(fixtures)\n",
    "df.head()"
   ]
  },
  {
   "cell_type": "markdown",
   "metadata": {},
   "source": [
    "After cleaning the raw data (getting only what we need) the data looks like this:"
   ]
  },
  {
   "cell_type": "code",
   "execution_count": 10,
   "metadata": {
    "collapsed": false
   },
   "outputs": [
    {
     "data": {
      "text/html": [
       "<div>\n",
       "<table border=\"1\" class=\"dataframe\">\n",
       "  <thead>\n",
       "    <tr style=\"text-align: right;\">\n",
       "      <th></th>\n",
       "      <th>awayTeamName</th>\n",
       "      <th>goalsAwayTeam</th>\n",
       "      <th>goalsHomeTeam</th>\n",
       "      <th>homeTeamName</th>\n",
       "      <th>matchday</th>\n",
       "      <th>season</th>\n",
       "    </tr>\n",
       "  </thead>\n",
       "  <tbody>\n",
       "    <tr>\n",
       "      <th>0</th>\n",
       "      <td>Everton FC</td>\n",
       "      <td>2</td>\n",
       "      <td>2</td>\n",
       "      <td>Norwich City FC</td>\n",
       "      <td>1</td>\n",
       "      <td>2013</td>\n",
       "    </tr>\n",
       "    <tr>\n",
       "      <th>1</th>\n",
       "      <td>Stoke City FC</td>\n",
       "      <td>0</td>\n",
       "      <td>1</td>\n",
       "      <td>Liverpool FC</td>\n",
       "      <td>1</td>\n",
       "      <td>2013</td>\n",
       "    </tr>\n",
       "    <tr>\n",
       "      <th>2</th>\n",
       "      <td>Cardiff City FC</td>\n",
       "      <td>0</td>\n",
       "      <td>2</td>\n",
       "      <td>West Ham United FC</td>\n",
       "      <td>1</td>\n",
       "      <td>2013</td>\n",
       "    </tr>\n",
       "    <tr>\n",
       "      <th>3</th>\n",
       "      <td>Southampton FC</td>\n",
       "      <td>1</td>\n",
       "      <td>0</td>\n",
       "      <td>West Bromwich Albion FC</td>\n",
       "      <td>1</td>\n",
       "      <td>2013</td>\n",
       "    </tr>\n",
       "    <tr>\n",
       "      <th>4</th>\n",
       "      <td>Fulham FC</td>\n",
       "      <td>1</td>\n",
       "      <td>0</td>\n",
       "      <td>Sunderland AFC</td>\n",
       "      <td>1</td>\n",
       "      <td>2013</td>\n",
       "    </tr>\n",
       "  </tbody>\n",
       "</table>\n",
       "</div>"
      ],
      "text/plain": [
       "      awayTeamName  goalsAwayTeam  goalsHomeTeam             homeTeamName  \\\n",
       "0       Everton FC              2              2          Norwich City FC   \n",
       "1    Stoke City FC              0              1             Liverpool FC   \n",
       "2  Cardiff City FC              0              2       West Ham United FC   \n",
       "3   Southampton FC              1              0  West Bromwich Albion FC   \n",
       "4        Fulham FC              1              0           Sunderland AFC   \n",
       "\n",
       "   matchday  season  \n",
       "0         1    2013  \n",
       "1         1    2013  \n",
       "2         1    2013  \n",
       "3         1    2013  \n",
       "4         1    2013  "
      ]
     },
     "execution_count": 10,
     "metadata": {},
     "output_type": "execute_result"
    }
   ],
   "source": [
    "fixtures = []\n",
    "for i in ids:\n",
    "    f = pickle.load(open(ids[i]+'-fixtures.pickle', 'rb'))\n",
    "    for g in f:\n",
    "        if g['status'] != 'TIMED':\n",
    "            g.pop('status', None)\n",
    "            g.pop('date', None)\n",
    "            g.pop('id', None)\n",
    "            g.pop('awayTeamId', None)\n",
    "            g.pop('homeTeamId', None)\n",
    "            g.pop('soccerseasonId', None)\n",
    "            g['season'] = int(ids[i])\n",
    "            g['goalsHomeTeam'] = g['result']['goalsHomeTeam']\n",
    "            g['goalsAwayTeam'] = g['result']['goalsAwayTeam']\n",
    "            g.pop('result', None)\n",
    "            fixtures.append(g)\n",
    "df = DataFrame(fixtures)\n",
    "df.head()"
   ]
  },
  {
   "cell_type": "code",
   "execution_count": 4,
   "metadata": {
    "collapsed": false
   },
   "outputs": [
    {
     "data": {
      "image/png": "[encoded data removed]",
      "text/plain": [
       "<matplotlib.figure.Figure at 0x7016d30>"
      ]
     },
     "metadata": {},
     "output_type": "display_data"
    }
   ],
   "source": [
    "def plot1():\n",
    "    global fixtures\n",
    "    c = Counter()\n",
    "    for g in fixtures:\n",
    "        if g['goalsHomeTeam'] > g['goalsAwayTeam']:\n",
    "            c[str(g['season'])] += 1\n",
    "\n",
    "    x, y = zip(*c.items())\n",
    "    fig = plt.figure(figsize=(15, 6))\n",
    "    ax = plt.subplot(111, axisbg=(0.1843, 0.3098, 0.3098))\n",
    "    width=0.5\n",
    "    ax.bar(range(len(x)), y, width=width,color='red')\n",
    "    ax.set_xticks(np.arange(len(x)) + width/2)\n",
    "    ax.set_xticklabels(x, rotation=90)\n",
    "    plt.title(\"Home wins per season\")\n",
    "    plt.xlabel(\"Season\")\n",
    "    plt.ylabel(\"Home Wins Count\")\n",
    "    plt.show()\n",
    "plot1()"
   ]
  },
  {
   "cell_type": "code",
   "execution_count": 6,
   "metadata": {
    "collapsed": false
   },
   "outputs": [
    {
     "data": {
      "image/png": "[encoded data removed]",
      "text/plain": [
       "<matplotlib.figure.Figure at 0x7968c88>"
      ]
     },
     "metadata": {},
     "output_type": "display_data"
    }
   ],
   "source": [
    "def plot2():\n",
    "    global fixtures\n",
    "    c = Counter()\n",
    "    for g in fixtures:\n",
    "        if g['goalsHomeTeam'] > g['goalsAwayTeam']:\n",
    "            c[g['homeTeamName']] += 1\n",
    "        elif g['goalsAwayTeam'] > g['goalsHomeTeam']:\n",
    "            c[g['awayTeamName']] += 1\n",
    "\n",
    "    x, y = zip(*c.items())\n",
    "    fig = plt.figure(figsize=(15, 6))\n",
    "    ax = plt.subplot(111, axisbg=(0.1843, 0.3098, 0.3098))\n",
    "    width=0.7\n",
    "    ax.bar(range(len(x)), y, width=width,color='red')\n",
    "    ax.set_xticks(np.arange(len(x)) + width/2)\n",
    "    ax.set_xticklabels(x, rotation=90)\n",
    "    plt.title(\"Wins per team in last 3 years\")\n",
    "    plt.xlabel(\"Team\")\n",
    "    plt.ylabel(\"Wins\")\n",
    "    plt.show()\n",
    "plot2()"
   ]
  },
  {
   "cell_type": "code",
   "execution_count": 7,
   "metadata": {
    "collapsed": false
   },
   "outputs": [
    {
     "data": {
      "image/png": "[encoded data removed]",
      "text/plain": [
       "<matplotlib.figure.Figure at 0x7d17198>"
      ]
     },
     "metadata": {},
     "output_type": "display_data"
    }
   ],
   "source": [
    "def plot3():\n",
    "    global fixtures\n",
    "    c = Counter()\n",
    "    for g in fixtures:\n",
    "        if g['homeTeamName'] == 'Chelsea FC':\n",
    "            if g['goalsHomeTeam'] > g['goalsAwayTeam']:\n",
    "                c[str(g['season']) + '/wins'] += 1\n",
    "            elif g['goalsAwayTeam'] > g['goalsHomeTeam']:\n",
    "                c[str(g['season']) + '/loses'] += 1\n",
    "            else:\n",
    "                c[str(g['season']) + '/draws'] += 1\n",
    "        elif g['awayTeamName'] == 'Chelsea FC':\n",
    "            if g['goalsHomeTeam'] > g['goalsAwayTeam']:\n",
    "                c[str(g['season']) + '/loses'] += 1\n",
    "            elif g['goalsAwayTeam'] > g['goalsHomeTeam']:\n",
    "                c[str(g['season']) + '/wins'] += 1\n",
    "            else:\n",
    "                c[str(g['season']) + '/draws'] += 1\n",
    "\n",
    "    x, y = zip(*c.items())\n",
    "    fig = plt.figure(figsize=(15, 6))\n",
    "    ax = plt.subplot(111, axisbg=(0.1843, 0.3098, 0.3098))\n",
    "    width=0.7\n",
    "    ax.bar(range(len(x)), y, width=width,color='red')\n",
    "    ax.set_xticks(np.arange(len(x)) + width/2)\n",
    "    ax.set_xticklabels(x, rotation=90)\n",
    "    plt.title(\"Total results per season for 'Chelsea FC'\")\n",
    "    plt.xlabel(\"Season/Result\")\n",
    "    plt.ylabel(\"Count\")\n",
    "    plt.show()\n",
    "plot3()"
   ]
  },
  {
   "cell_type": "code",
   "execution_count": 8,
   "metadata": {
    "collapsed": false
   },
   "outputs": [
    {
     "data": {
      "image/png": "[encoded data removed]",
      "text/plain": [
       "<matplotlib.figure.Figure at 0x7968400>"
      ]
     },
     "metadata": {},
     "output_type": "display_data"
    }
   ],
   "source": [
    "def plot4():\n",
    "    global fixtures\n",
    "    c = Counter()\n",
    "    for g in fixtures:\n",
    "        c[str(g['season'])] += g['goalsHomeTeam'] + g['goalsAwayTeam']\n",
    "\n",
    "    x, y = zip(*c.items())\n",
    "    fig = plt.figure(figsize=(15, 6))\n",
    "    ax = plt.subplot(111, axisbg=(0.1843, 0.3098, 0.3098))\n",
    "    width=0.7\n",
    "    ax.bar(range(len(x)), y, width=width,color='red')\n",
    "    ax.set_xticks(np.arange(len(x)) + width/2)\n",
    "    ax.set_xticklabels(x, rotation=90)\n",
    "    plt.title(\"Total goals per season\")\n",
    "    plt.xlabel(\"Season\")\n",
    "    plt.ylabel(\"Goals\")\n",
    "    plt.show()\n",
    "plot4()"
   ]
  },
  {
   "cell_type": "code",
   "execution_count": 9,
   "metadata": {
    "collapsed": false
   },
   "outputs": [
    {
     "data": {
      "image/png": "[encoded data removed]",
      "text/plain": [
       "<matplotlib.figure.Figure at 0x76034e0>"
      ]
     },
     "metadata": {},
     "output_type": "display_data"
    }
   ],
   "source": [
    "def plot5():\n",
    "    global fixtures\n",
    "    c = Counter()\n",
    "    for g in fixtures:\n",
    "        if g['goalsHomeTeam'] + g['goalsAwayTeam'] > 4:\n",
    "            c[str(g['season'])] += 1\n",
    "\n",
    "    x, y = zip(*c.items())\n",
    "    fig = plt.figure(figsize=(15, 6))\n",
    "    ax = plt.subplot(111, axisbg=(0.1843, 0.3098, 0.3098))\n",
    "    width=0.7\n",
    "    ax.bar(range(len(x)), y, width=width,color='red')\n",
    "    ax.set_xticks(np.arange(len(x)) + width/2)\n",
    "    ax.set_xticklabels(x, rotation=90)\n",
    "    plt.title(\"Matches number per season that had more than 4 goals\")\n",
    "    plt.xlabel(\"Season\")\n",
    "    plt.ylabel(\"Matches Count\")\n",
    "    plt.show()\n",
    "plot5()"
   ]
  }
 ],
 "metadata": {
  "kernelspec": {
   "display_name": "Python 3",
   "language": "python",
   "name": "python3"
  },
  "language_info": {
   "codemirror_mode": {
    "name": "ipython",
    "version": 3
   },
   "file_extension": ".py",
   "mimetype": "text/x-python",
   "name": "python",
   "nbconvert_exporter": "python",
   "pygments_lexer": "ipython3",
   "version": "3.5.0"
  }
 },
 "nbformat": 4,
 "nbformat_minor": 0
}
